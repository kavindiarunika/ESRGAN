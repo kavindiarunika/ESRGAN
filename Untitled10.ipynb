{
  "nbformat": 4,
  "nbformat_minor": 0,
  "metadata": {
    "colab": {
      "provenance": [],
      "authorship_tag": "ABX9TyO4meA43hhQXSo3Hqu+jGbg",
      "include_colab_link": true
    },
    "kernelspec": {
      "name": "python3",
      "display_name": "Python 3"
    },
    "language_info": {
      "name": "python"
    }
  },
  "cells": [
    {
      "cell_type": "markdown",
      "metadata": {
        "id": "view-in-github",
        "colab_type": "text"
      },
      "source": [
        "<a href=\"https://colab.research.google.com/github/kavindiarunika/ESRGAN/blob/main/Untitled10.ipynb\" target=\"_parent\"><img src=\"https://colab.research.google.com/assets/colab-badge.svg\" alt=\"Open In Colab\"/></a>"
      ]
    },
    {
      "cell_type": "code",
      "execution_count": 1,
      "metadata": {
        "colab": {
          "base_uri": "https://localhost:8080/"
        },
        "id": "jLrq1vtOnM_q",
        "outputId": "d5f00f25-b318-4294-df44-226aa1f66eee"
      },
      "outputs": [
        {
          "output_type": "stream",
          "name": "stdout",
          "text": [
            "Cloning into 'ESRGAN'...\n",
            "remote: Enumerating objects: 225, done.\u001b[K\n",
            "remote: Counting objects: 100% (20/20), done.\u001b[K\n",
            "remote: Compressing objects: 100% (6/6), done.\u001b[K\n",
            "remote: Total 225 (delta 15), reused 14 (delta 14), pack-reused 205 (from 1)\u001b[K\n",
            "Receiving objects: 100% (225/225), 24.86 MiB | 35.55 MiB/s, done.\n",
            "Resolving deltas: 100% (85/85), done.\n"
          ]
        }
      ],
      "source": [
        "!git clone https://github.com/xinntao/ESRGAN"
      ]
    },
    {
      "cell_type": "code",
      "source": [
        "# Install packages directly in Colab\n",
        "!pip install torch torchvision opencv-python"
      ],
      "metadata": {
        "colab": {
          "base_uri": "https://localhost:8080/"
        },
        "id": "vaQmnCpXoRqQ",
        "outputId": "9ea3ebd3-5581-4a10-aefe-2187480680e1"
      },
      "execution_count": 2,
      "outputs": [
        {
          "output_type": "stream",
          "name": "stdout",
          "text": [
            "Requirement already satisfied: torch in /usr/local/lib/python3.12/dist-packages (2.8.0+cu126)\n",
            "Requirement already satisfied: torchvision in /usr/local/lib/python3.12/dist-packages (0.23.0+cu126)\n",
            "Requirement already satisfied: opencv-python in /usr/local/lib/python3.12/dist-packages (4.12.0.88)\n",
            "Requirement already satisfied: filelock in /usr/local/lib/python3.12/dist-packages (from torch) (3.19.1)\n",
            "Requirement already satisfied: typing-extensions>=4.10.0 in /usr/local/lib/python3.12/dist-packages (from torch) (4.15.0)\n",
            "Requirement already satisfied: setuptools in /usr/local/lib/python3.12/dist-packages (from torch) (75.2.0)\n",
            "Requirement already satisfied: sympy>=1.13.3 in /usr/local/lib/python3.12/dist-packages (from torch) (1.13.3)\n",
            "Requirement already satisfied: networkx in /usr/local/lib/python3.12/dist-packages (from torch) (3.5)\n",
            "Requirement already satisfied: jinja2 in /usr/local/lib/python3.12/dist-packages (from torch) (3.1.6)\n",
            "Requirement already satisfied: fsspec in /usr/local/lib/python3.12/dist-packages (from torch) (2025.3.0)\n",
            "Requirement already satisfied: nvidia-cuda-nvrtc-cu12==12.6.77 in /usr/local/lib/python3.12/dist-packages (from torch) (12.6.77)\n",
            "Requirement already satisfied: nvidia-cuda-runtime-cu12==12.6.77 in /usr/local/lib/python3.12/dist-packages (from torch) (12.6.77)\n",
            "Requirement already satisfied: nvidia-cuda-cupti-cu12==12.6.80 in /usr/local/lib/python3.12/dist-packages (from torch) (12.6.80)\n",
            "Requirement already satisfied: nvidia-cudnn-cu12==9.10.2.21 in /usr/local/lib/python3.12/dist-packages (from torch) (9.10.2.21)\n",
            "Requirement already satisfied: nvidia-cublas-cu12==12.6.4.1 in /usr/local/lib/python3.12/dist-packages (from torch) (12.6.4.1)\n",
            "Requirement already satisfied: nvidia-cufft-cu12==11.3.0.4 in /usr/local/lib/python3.12/dist-packages (from torch) (11.3.0.4)\n",
            "Requirement already satisfied: nvidia-curand-cu12==10.3.7.77 in /usr/local/lib/python3.12/dist-packages (from torch) (10.3.7.77)\n",
            "Requirement already satisfied: nvidia-cusolver-cu12==11.7.1.2 in /usr/local/lib/python3.12/dist-packages (from torch) (11.7.1.2)\n",
            "Requirement already satisfied: nvidia-cusparse-cu12==12.5.4.2 in /usr/local/lib/python3.12/dist-packages (from torch) (12.5.4.2)\n",
            "Requirement already satisfied: nvidia-cusparselt-cu12==0.7.1 in /usr/local/lib/python3.12/dist-packages (from torch) (0.7.1)\n",
            "Requirement already satisfied: nvidia-nccl-cu12==2.27.3 in /usr/local/lib/python3.12/dist-packages (from torch) (2.27.3)\n",
            "Requirement already satisfied: nvidia-nvtx-cu12==12.6.77 in /usr/local/lib/python3.12/dist-packages (from torch) (12.6.77)\n",
            "Requirement already satisfied: nvidia-nvjitlink-cu12==12.6.85 in /usr/local/lib/python3.12/dist-packages (from torch) (12.6.85)\n",
            "Requirement already satisfied: nvidia-cufile-cu12==1.11.1.6 in /usr/local/lib/python3.12/dist-packages (from torch) (1.11.1.6)\n",
            "Requirement already satisfied: triton==3.4.0 in /usr/local/lib/python3.12/dist-packages (from torch) (3.4.0)\n",
            "Requirement already satisfied: numpy in /usr/local/lib/python3.12/dist-packages (from torchvision) (2.0.2)\n",
            "Requirement already satisfied: pillow!=8.3.*,>=5.3.0 in /usr/local/lib/python3.12/dist-packages (from torchvision) (11.3.0)\n",
            "Requirement already satisfied: mpmath<1.4,>=1.1.0 in /usr/local/lib/python3.12/dist-packages (from sympy>=1.13.3->torch) (1.3.0)\n",
            "Requirement already satisfied: MarkupSafe>=2.0 in /usr/local/lib/python3.12/dist-packages (from jinja2->torch) (3.0.2)\n"
          ]
        }
      ]
    },
    {
      "cell_type": "code",
      "source": [
        "from google.colab import drive\n",
        "drive.mount('/content/drive')"
      ],
      "metadata": {
        "colab": {
          "base_uri": "https://localhost:8080/"
        },
        "id": "J2VpObdzoUYK",
        "outputId": "8329ce14-348d-45c9-ad65-3bafc499de18"
      },
      "execution_count": 3,
      "outputs": [
        {
          "output_type": "stream",
          "name": "stdout",
          "text": [
            "Mounted at /content/drive\n"
          ]
        }
      ]
    },
    {
      "cell_type": "code",
      "source": [
        "!pip install realesrgan"
      ],
      "metadata": {
        "colab": {
          "base_uri": "https://localhost:8080/"
        },
        "id": "awVYrh7yoYCk",
        "outputId": "c9418b9a-ac8d-49d7-ad39-b98065aba0d7"
      },
      "execution_count": 4,
      "outputs": [
        {
          "output_type": "stream",
          "name": "stdout",
          "text": [
            "Collecting realesrgan\n",
            "  Downloading realesrgan-0.3.0-py3-none-any.whl.metadata (17 kB)\n",
            "Collecting basicsr>=1.4.2 (from realesrgan)\n",
            "  Downloading basicsr-1.4.2.tar.gz (172 kB)\n",
            "\u001b[?25l     \u001b[90m━━━━━━━━━━━━━━━━━━━━━━━━━━━━━━━━━━━━━━━━\u001b[0m \u001b[32m0.0/172.5 kB\u001b[0m \u001b[31m?\u001b[0m eta \u001b[36m-:--:--\u001b[0m\r\u001b[2K     \u001b[90m━━━━━━━━━━━━━━━━━━━━━━━━━━━━━━━━━━━━━━\u001b[0m \u001b[32m172.5/172.5 kB\u001b[0m \u001b[31m12.9 MB/s\u001b[0m eta \u001b[36m0:00:00\u001b[0m\n",
            "\u001b[?25h  Preparing metadata (setup.py) ... \u001b[?25l\u001b[?25hdone\n",
            "Collecting facexlib>=0.2.5 (from realesrgan)\n",
            "  Downloading facexlib-0.3.0-py3-none-any.whl.metadata (4.6 kB)\n",
            "Collecting gfpgan>=1.3.5 (from realesrgan)\n",
            "  Downloading gfpgan-1.3.8-py3-none-any.whl.metadata (12 kB)\n",
            "Requirement already satisfied: numpy in /usr/local/lib/python3.12/dist-packages (from realesrgan) (2.0.2)\n",
            "Requirement already satisfied: opencv-python in /usr/local/lib/python3.12/dist-packages (from realesrgan) (4.12.0.88)\n",
            "Requirement already satisfied: Pillow in /usr/local/lib/python3.12/dist-packages (from realesrgan) (11.3.0)\n",
            "Requirement already satisfied: torch>=1.7 in /usr/local/lib/python3.12/dist-packages (from realesrgan) (2.8.0+cu126)\n",
            "Requirement already satisfied: torchvision in /usr/local/lib/python3.12/dist-packages (from realesrgan) (0.23.0+cu126)\n",
            "Requirement already satisfied: tqdm in /usr/local/lib/python3.12/dist-packages (from realesrgan) (4.67.1)\n",
            "Collecting addict (from basicsr>=1.4.2->realesrgan)\n",
            "  Downloading addict-2.4.0-py3-none-any.whl.metadata (1.0 kB)\n",
            "Requirement already satisfied: future in /usr/local/lib/python3.12/dist-packages (from basicsr>=1.4.2->realesrgan) (1.0.0)\n",
            "Collecting lmdb (from basicsr>=1.4.2->realesrgan)\n",
            "  Downloading lmdb-1.7.3-cp312-cp312-manylinux_2_17_x86_64.manylinux2014_x86_64.whl.metadata (1.3 kB)\n",
            "Requirement already satisfied: pyyaml in /usr/local/lib/python3.12/dist-packages (from basicsr>=1.4.2->realesrgan) (6.0.2)\n",
            "Requirement already satisfied: requests in /usr/local/lib/python3.12/dist-packages (from basicsr>=1.4.2->realesrgan) (2.32.4)\n",
            "Requirement already satisfied: scikit-image in /usr/local/lib/python3.12/dist-packages (from basicsr>=1.4.2->realesrgan) (0.25.2)\n",
            "Requirement already satisfied: scipy in /usr/local/lib/python3.12/dist-packages (from basicsr>=1.4.2->realesrgan) (1.16.1)\n",
            "Collecting tb-nightly (from basicsr>=1.4.2->realesrgan)\n",
            "  Downloading tb_nightly-2.21.0a20250830-py3-none-any.whl.metadata (1.9 kB)\n",
            "Collecting yapf (from basicsr>=1.4.2->realesrgan)\n",
            "  Downloading yapf-0.43.0-py3-none-any.whl.metadata (46 kB)\n",
            "\u001b[2K     \u001b[90m━━━━━━━━━━━━━━━━━━━━━━━━━━━━━━━━━━━━━━━━\u001b[0m \u001b[32m46.8/46.8 kB\u001b[0m \u001b[31m3.9 MB/s\u001b[0m eta \u001b[36m0:00:00\u001b[0m\n",
            "\u001b[?25hCollecting filterpy (from facexlib>=0.2.5->realesrgan)\n",
            "  Downloading filterpy-1.4.5.zip (177 kB)\n",
            "\u001b[2K     \u001b[90m━━━━━━━━━━━━━━━━━━━━━━━━━━━━━━━━━━━━━━\u001b[0m \u001b[32m178.0/178.0 kB\u001b[0m \u001b[31m14.3 MB/s\u001b[0m eta \u001b[36m0:00:00\u001b[0m\n",
            "\u001b[?25h  Preparing metadata (setup.py) ... \u001b[?25l\u001b[?25hdone\n",
            "Requirement already satisfied: numba in /usr/local/lib/python3.12/dist-packages (from facexlib>=0.2.5->realesrgan) (0.60.0)\n",
            "Requirement already satisfied: filelock in /usr/local/lib/python3.12/dist-packages (from torch>=1.7->realesrgan) (3.19.1)\n",
            "Requirement already satisfied: typing-extensions>=4.10.0 in /usr/local/lib/python3.12/dist-packages (from torch>=1.7->realesrgan) (4.15.0)\n",
            "Requirement already satisfied: setuptools in /usr/local/lib/python3.12/dist-packages (from torch>=1.7->realesrgan) (75.2.0)\n",
            "Requirement already satisfied: sympy>=1.13.3 in /usr/local/lib/python3.12/dist-packages (from torch>=1.7->realesrgan) (1.13.3)\n",
            "Requirement already satisfied: networkx in /usr/local/lib/python3.12/dist-packages (from torch>=1.7->realesrgan) (3.5)\n",
            "Requirement already satisfied: jinja2 in /usr/local/lib/python3.12/dist-packages (from torch>=1.7->realesrgan) (3.1.6)\n",
            "Requirement already satisfied: fsspec in /usr/local/lib/python3.12/dist-packages (from torch>=1.7->realesrgan) (2025.3.0)\n",
            "Requirement already satisfied: nvidia-cuda-nvrtc-cu12==12.6.77 in /usr/local/lib/python3.12/dist-packages (from torch>=1.7->realesrgan) (12.6.77)\n",
            "Requirement already satisfied: nvidia-cuda-runtime-cu12==12.6.77 in /usr/local/lib/python3.12/dist-packages (from torch>=1.7->realesrgan) (12.6.77)\n",
            "Requirement already satisfied: nvidia-cuda-cupti-cu12==12.6.80 in /usr/local/lib/python3.12/dist-packages (from torch>=1.7->realesrgan) (12.6.80)\n",
            "Requirement already satisfied: nvidia-cudnn-cu12==9.10.2.21 in /usr/local/lib/python3.12/dist-packages (from torch>=1.7->realesrgan) (9.10.2.21)\n",
            "Requirement already satisfied: nvidia-cublas-cu12==12.6.4.1 in /usr/local/lib/python3.12/dist-packages (from torch>=1.7->realesrgan) (12.6.4.1)\n",
            "Requirement already satisfied: nvidia-cufft-cu12==11.3.0.4 in /usr/local/lib/python3.12/dist-packages (from torch>=1.7->realesrgan) (11.3.0.4)\n",
            "Requirement already satisfied: nvidia-curand-cu12==10.3.7.77 in /usr/local/lib/python3.12/dist-packages (from torch>=1.7->realesrgan) (10.3.7.77)\n",
            "Requirement already satisfied: nvidia-cusolver-cu12==11.7.1.2 in /usr/local/lib/python3.12/dist-packages (from torch>=1.7->realesrgan) (11.7.1.2)\n",
            "Requirement already satisfied: nvidia-cusparse-cu12==12.5.4.2 in /usr/local/lib/python3.12/dist-packages (from torch>=1.7->realesrgan) (12.5.4.2)\n",
            "Requirement already satisfied: nvidia-cusparselt-cu12==0.7.1 in /usr/local/lib/python3.12/dist-packages (from torch>=1.7->realesrgan) (0.7.1)\n",
            "Requirement already satisfied: nvidia-nccl-cu12==2.27.3 in /usr/local/lib/python3.12/dist-packages (from torch>=1.7->realesrgan) (2.27.3)\n",
            "Requirement already satisfied: nvidia-nvtx-cu12==12.6.77 in /usr/local/lib/python3.12/dist-packages (from torch>=1.7->realesrgan) (12.6.77)\n",
            "Requirement already satisfied: nvidia-nvjitlink-cu12==12.6.85 in /usr/local/lib/python3.12/dist-packages (from torch>=1.7->realesrgan) (12.6.85)\n",
            "Requirement already satisfied: nvidia-cufile-cu12==1.11.1.6 in /usr/local/lib/python3.12/dist-packages (from torch>=1.7->realesrgan) (1.11.1.6)\n",
            "Requirement already satisfied: triton==3.4.0 in /usr/local/lib/python3.12/dist-packages (from torch>=1.7->realesrgan) (3.4.0)\n",
            "Requirement already satisfied: mpmath<1.4,>=1.1.0 in /usr/local/lib/python3.12/dist-packages (from sympy>=1.13.3->torch>=1.7->realesrgan) (1.3.0)\n",
            "Requirement already satisfied: matplotlib in /usr/local/lib/python3.12/dist-packages (from filterpy->facexlib>=0.2.5->realesrgan) (3.10.0)\n",
            "Requirement already satisfied: MarkupSafe>=2.0 in /usr/local/lib/python3.12/dist-packages (from jinja2->torch>=1.7->realesrgan) (3.0.2)\n",
            "Requirement already satisfied: llvmlite<0.44,>=0.43.0dev0 in /usr/local/lib/python3.12/dist-packages (from numba->facexlib>=0.2.5->realesrgan) (0.43.0)\n",
            "Requirement already satisfied: charset_normalizer<4,>=2 in /usr/local/lib/python3.12/dist-packages (from requests->basicsr>=1.4.2->realesrgan) (3.4.3)\n",
            "Requirement already satisfied: idna<4,>=2.5 in /usr/local/lib/python3.12/dist-packages (from requests->basicsr>=1.4.2->realesrgan) (3.10)\n",
            "Requirement already satisfied: urllib3<3,>=1.21.1 in /usr/local/lib/python3.12/dist-packages (from requests->basicsr>=1.4.2->realesrgan) (2.5.0)\n",
            "Requirement already satisfied: certifi>=2017.4.17 in /usr/local/lib/python3.12/dist-packages (from requests->basicsr>=1.4.2->realesrgan) (2025.8.3)\n",
            "Requirement already satisfied: imageio!=2.35.0,>=2.33 in /usr/local/lib/python3.12/dist-packages (from scikit-image->basicsr>=1.4.2->realesrgan) (2.37.0)\n",
            "Requirement already satisfied: tifffile>=2022.8.12 in /usr/local/lib/python3.12/dist-packages (from scikit-image->basicsr>=1.4.2->realesrgan) (2025.6.11)\n",
            "Requirement already satisfied: packaging>=21 in /usr/local/lib/python3.12/dist-packages (from scikit-image->basicsr>=1.4.2->realesrgan) (25.0)\n",
            "Requirement already satisfied: lazy-loader>=0.4 in /usr/local/lib/python3.12/dist-packages (from scikit-image->basicsr>=1.4.2->realesrgan) (0.4)\n",
            "Requirement already satisfied: absl-py>=0.4 in /usr/local/lib/python3.12/dist-packages (from tb-nightly->basicsr>=1.4.2->realesrgan) (1.4.0)\n",
            "Requirement already satisfied: grpcio>=1.48.2 in /usr/local/lib/python3.12/dist-packages (from tb-nightly->basicsr>=1.4.2->realesrgan) (1.74.0)\n",
            "Requirement already satisfied: markdown>=2.6.8 in /usr/local/lib/python3.12/dist-packages (from tb-nightly->basicsr>=1.4.2->realesrgan) (3.8.2)\n",
            "Requirement already satisfied: protobuf!=4.24.0,>=3.19.6 in /usr/local/lib/python3.12/dist-packages (from tb-nightly->basicsr>=1.4.2->realesrgan) (5.29.5)\n",
            "Requirement already satisfied: tensorboard-data-server<0.8.0,>=0.7.0 in /usr/local/lib/python3.12/dist-packages (from tb-nightly->basicsr>=1.4.2->realesrgan) (0.7.2)\n",
            "Requirement already satisfied: werkzeug>=1.0.1 in /usr/local/lib/python3.12/dist-packages (from tb-nightly->basicsr>=1.4.2->realesrgan) (3.1.3)\n",
            "Requirement already satisfied: platformdirs>=3.5.1 in /usr/local/lib/python3.12/dist-packages (from yapf->basicsr>=1.4.2->realesrgan) (4.3.8)\n",
            "Requirement already satisfied: contourpy>=1.0.1 in /usr/local/lib/python3.12/dist-packages (from matplotlib->filterpy->facexlib>=0.2.5->realesrgan) (1.3.3)\n",
            "Requirement already satisfied: cycler>=0.10 in /usr/local/lib/python3.12/dist-packages (from matplotlib->filterpy->facexlib>=0.2.5->realesrgan) (0.12.1)\n",
            "Requirement already satisfied: fonttools>=4.22.0 in /usr/local/lib/python3.12/dist-packages (from matplotlib->filterpy->facexlib>=0.2.5->realesrgan) (4.59.1)\n",
            "Requirement already satisfied: kiwisolver>=1.3.1 in /usr/local/lib/python3.12/dist-packages (from matplotlib->filterpy->facexlib>=0.2.5->realesrgan) (1.4.9)\n",
            "Requirement already satisfied: pyparsing>=2.3.1 in /usr/local/lib/python3.12/dist-packages (from matplotlib->filterpy->facexlib>=0.2.5->realesrgan) (3.2.3)\n",
            "Requirement already satisfied: python-dateutil>=2.7 in /usr/local/lib/python3.12/dist-packages (from matplotlib->filterpy->facexlib>=0.2.5->realesrgan) (2.9.0.post0)\n",
            "Requirement already satisfied: six>=1.5 in /usr/local/lib/python3.12/dist-packages (from python-dateutil>=2.7->matplotlib->filterpy->facexlib>=0.2.5->realesrgan) (1.17.0)\n",
            "Downloading realesrgan-0.3.0-py3-none-any.whl (26 kB)\n",
            "Downloading facexlib-0.3.0-py3-none-any.whl (59 kB)\n",
            "\u001b[2K   \u001b[90m━━━━━━━━━━━━━━━━━━━━━━━━━━━━━━━━━━━━━━━━\u001b[0m \u001b[32m59.6/59.6 kB\u001b[0m \u001b[31m4.8 MB/s\u001b[0m eta \u001b[36m0:00:00\u001b[0m\n",
            "\u001b[?25hDownloading gfpgan-1.3.8-py3-none-any.whl (52 kB)\n",
            "\u001b[2K   \u001b[90m━━━━━━━━━━━━━━━━━━━━━━━━━━━━━━━━━━━━━━━━\u001b[0m \u001b[32m52.2/52.2 kB\u001b[0m \u001b[31m4.2 MB/s\u001b[0m eta \u001b[36m0:00:00\u001b[0m\n",
            "\u001b[?25hDownloading addict-2.4.0-py3-none-any.whl (3.8 kB)\n",
            "Downloading lmdb-1.7.3-cp312-cp312-manylinux_2_17_x86_64.manylinux2014_x86_64.whl (302 kB)\n",
            "\u001b[2K   \u001b[90m━━━━━━━━━━━━━━━━━━━━━━━━━━━━━━━━━━━━━━━━\u001b[0m \u001b[32m303.0/303.0 kB\u001b[0m \u001b[31m25.1 MB/s\u001b[0m eta \u001b[36m0:00:00\u001b[0m\n",
            "\u001b[?25hDownloading tb_nightly-2.21.0a20250830-py3-none-any.whl (5.5 MB)\n",
            "\u001b[2K   \u001b[90m━━━━━━━━━━━━━━━━━━━━━━━━━━━━━━━━━━━━━━━━\u001b[0m \u001b[32m5.5/5.5 MB\u001b[0m \u001b[31m101.7 MB/s\u001b[0m eta \u001b[36m0:00:00\u001b[0m\n",
            "\u001b[?25hDownloading yapf-0.43.0-py3-none-any.whl (256 kB)\n",
            "\u001b[2K   \u001b[90m━━━━━━━━━━━━━━━━━━━━━━━━━━━━━━━━━━━━━━━━\u001b[0m \u001b[32m256.2/256.2 kB\u001b[0m \u001b[31m21.1 MB/s\u001b[0m eta \u001b[36m0:00:00\u001b[0m\n",
            "\u001b[?25hBuilding wheels for collected packages: basicsr, filterpy\n",
            "  Building wheel for basicsr (setup.py) ... \u001b[?25l\u001b[?25hdone\n",
            "  Created wheel for basicsr: filename=basicsr-1.4.2-py3-none-any.whl size=214817 sha256=dd0b9ea3b1608ba2feae4ab60f785358a87cff42a59a25bd033bdc327fab5ce4\n",
            "  Stored in directory: /root/.cache/pip/wheels/9a/e3/e4/58f29bfabb622dd40b6d9839318ce5bf092062b81ca3aa19ea\n",
            "  Building wheel for filterpy (setup.py) ... \u001b[?25l\u001b[?25hdone\n",
            "  Created wheel for filterpy: filename=filterpy-1.4.5-py3-none-any.whl size=110460 sha256=48966dfddf0ce410d9af8bfc55544deff23f41742df3f81642776365489bf664\n",
            "  Stored in directory: /root/.cache/pip/wheels/77/bf/4c/b0c3f4798a0166668752312a67118b27a3cd341e13ac0ae6ee\n",
            "Successfully built basicsr filterpy\n",
            "Installing collected packages: lmdb, addict, yapf, tb-nightly, filterpy, facexlib, basicsr, gfpgan, realesrgan\n",
            "Successfully installed addict-2.4.0 basicsr-1.4.2 facexlib-0.3.0 filterpy-1.4.5 gfpgan-1.3.8 lmdb-1.7.3 realesrgan-0.3.0 tb-nightly-2.21.0a20250830 yapf-0.43.0\n"
          ]
        }
      ]
    },
    {
      "cell_type": "code",
      "source": [
        "%cd ESRGAN\n",
        "!python test.py"
      ],
      "metadata": {
        "colab": {
          "base_uri": "https://localhost:8080/"
        },
        "id": "xPEwDj8RpBhs",
        "outputId": "051e7951-730a-4ca1-f673-d948c940d4f1"
      },
      "execution_count": 12,
      "outputs": [
        {
          "output_type": "stream",
          "name": "stdout",
          "text": [
            "[Errno 2] No such file or directory: 'ESRGAN'\n",
            "/content/ESRGAN\n",
            "Traceback (most recent call last):\n",
            "  File \"/content/ESRGAN/test.py\", line 15, in <module>\n",
            "    drive.mount('/content/drive')\n",
            "  File \"/usr/local/lib/python3.12/dist-packages/google/colab/drive.py\", line 97, in mount\n",
            "    return _mount(\n",
            "           ^^^^^^^\n",
            "  File \"/usr/local/lib/python3.12/dist-packages/google/colab/drive.py\", line 134, in _mount\n",
            "    _message.blocking_request(\n",
            "  File \"/usr/local/lib/python3.12/dist-packages/google/colab/_message.py\", line 173, in blocking_request\n",
            "    request_id = send_request(\n",
            "                 ^^^^^^^^^^^^^\n",
            "  File \"/usr/local/lib/python3.12/dist-packages/google/colab/_message.py\", line 117, in send_request\n",
            "    instance = ipython.get_kernelapp()\n",
            "               ^^^^^^^^^^^^^^^^^^^^^^^\n",
            "  File \"/usr/local/lib/python3.12/dist-packages/google/colab/_ipython.py\", line 28, in get_kernelapp\n",
            "    return get_ipython().kernel.parent\n",
            "           ^^^^^^^^^^^^^^^^^^^^\n",
            "AttributeError: 'NoneType' object has no attribute 'kernel'\n"
          ]
        }
      ]
    },
    {
      "cell_type": "code",
      "source": [
        "from IPython import get_ipython\n",
        "print(get_ipython())\n",
        "from google.colab import drive\n",
        "drive.mount('/content/drive')"
      ],
      "metadata": {
        "colab": {
          "base_uri": "https://localhost:8080/"
        },
        "id": "HxSmGMLcp_SJ",
        "outputId": "8b034228-39e6-497e-9247-726f7cd7eebd"
      },
      "execution_count": 7,
      "outputs": [
        {
          "output_type": "stream",
          "name": "stdout",
          "text": [
            "<google.colab._shell.Shell object at 0x781f17d7d9d0>\n",
            "Drive already mounted at /content/drive; to attempt to forcibly remount, call drive.mount(\"/content/drive\", force_remount=True).\n"
          ]
        }
      ]
    },
    {
      "cell_type": "code",
      "source": [
        "!ls /content/drive/MyDrive/combined_folder/normal/"
      ],
      "metadata": {
        "colab": {
          "base_uri": "https://localhost:8080/"
        },
        "id": "URseBa2Yqaau",
        "outputId": "551995a0-3c47-47fa-9033-a56da91c3407"
      },
      "execution_count": 8,
      "outputs": [
        {
          "output_type": "stream",
          "name": "stdout",
          "text": [
            "10113_jpg.rf.955f3c8cde9671d9a3ab4144d32a5019.jpg\n",
            "10114_jpg.rf.7c5fb8d8f3d9ceeb71d292c0ed01d71d.jpg\n",
            "10115_jpg.rf.80f10baa2e373b8ba6f9e0e0913aaae1.jpg\n",
            "10116_jpg.rf.71014d0171d79e5c4bc508dcf8ad6731.jpg\n",
            "10117_jpg.rf.ce1862edd186ea078edf20901d01f55e.jpg\n",
            "10118_jpg.rf.732276db4870508ff37ae45c87588a63.jpg\n",
            "10119_jpg.rf.454c80712bcad490a1a8e80c07d5a24f.jpg\n",
            "10120_jpg.rf.ef07b700203b5d78fff459a06f8d5614.jpg\n",
            "10121_jpg.rf.72cbd721f8caf8602d9b6caca3b2c34e.jpg\n",
            "10122_jpg.rf.ec048c3af98e339c328bf33bf684e29c.jpg\n",
            "10123_jpg.rf.25b26d8dbe1afb68a2b3ae2b7c04c495.jpg\n",
            "10124_jpg.rf.624cfadf85f4bf9f2a3041968a36be39.jpg\n",
            "10125_jpg.rf.6ca4e1918eec35348072c04c6ade4ee3.jpg\n",
            "10126_jpg.rf.bb5055723aa4d8e9a4d863519ee50325.jpg\n",
            "10127_jpg.rf.c4add3a4ba8d5cdfaca669371cd7cd42.jpg\n",
            "10128_jpg.rf.b5097277252ecc8a506a2aed61f634a3.jpg\n",
            "10129_jpg.rf.c9b6b9b6d1a33c3f51d116b6feb57748.jpg\n",
            "10130_jpg.rf.2886f70a95e8b179ef507f4df636da15.jpg\n",
            "10131_jpg.rf.42b0251b03fccb610e42b1af5ef9cece.jpg\n",
            "10132_jpg.rf.677e28c22be2598f1b51386b3e991a97.jpg\n",
            "10133_jpg.rf.22123352ecb59e7e9c8441a5c8d71dcc.jpg\n",
            "10134_jpg.rf.8860f2159a0e8816cb10f6b308d7d5da.jpg\n",
            "10135_jpg.rf.e20005c90773724f89b1fb53e59f7f82.jpg\n",
            "10136_jpg.rf.7b91da2ce2845a3a15aeaafd1b061a0d.jpg\n",
            "10137_jpg.rf.27d035f3d3b6261a49304aacbcfd6f12.jpg\n",
            "10138_jpg.rf.f069452db0447ee8d39d5065ac1ca852.jpg\n",
            "10139_jpg.rf.d4b2085f29b9a10fa20efe42d1620ebe.jpg\n",
            "10140_jpg.rf.2adbb36f9f04fc286aceb0cdb205b65f.jpg\n",
            "10141_jpg.rf.63ab88a16b006623eaba0a61653047dc.jpg\n",
            "10142_jpg.rf.52ac92e6e95d17f23ed11a9aba2c26e7.jpg\n",
            "10143_jpg.rf.d3bdbfbc348ba8d046771a3c89f3098c.jpg\n",
            "10144_jpg.rf.cac3bf1ca05af2326f331c42dc022616.jpg\n",
            "10145_jpg.rf.6e0bd8882187713f946c50ebc7155658.jpg\n",
            "10146_jpg.rf.7450fb90d934141a008dd4ad415e7583.jpg\n",
            "10147_jpg.rf.a14a5c6ac8a1234d59678f03c4ce7a66.jpg\n",
            "10148_jpg.rf.c36a8e3e1b1335697f68f1eafebd98bc.jpg\n",
            "10149_jpg.rf.d8404c117e35b97e9b307611e663e238.jpg\n",
            "10150_jpg.rf.774346c1a2ec5dc287000e0b5a9d6984.jpg\n",
            "10151_jpg.rf.0fd8b939ef97b72e7ff7051e31c60b26.jpg\n",
            "10152_jpg.rf.0e69f0d9d4bef91dc6456d2cc0c23ee1.jpg\n",
            "10153_jpg.rf.ee42e9020fbec7e7f6fe05df32b445ae.jpg\n",
            "10154_jpg.rf.eea3f2fc12587365cd36cb4d1f31db9b.jpg\n",
            "10155_jpg.rf.03227132ac286fcf3285717521f29797.jpg\n",
            "10156_jpg.rf.1dfaf518c7db92e314d7e52abf3b0cba.jpg\n",
            "10157_jpg.rf.d54898d47be0da7d788ef709e7fbf42a.jpg\n",
            "10158_jpg.rf.286281f2d3e7ed36329873d3f5d4e93f.jpg\n",
            "10159_jpg.rf.3727eff1dd54d7b274042f2a3ab106c1.jpg\n",
            "10160_jpg.rf.035cda2898b959b080c89273386b4cce.jpg\n",
            "10161_jpg.rf.2621a1c88526d50cec2c44d1faf69965.jpg\n",
            "10162_jpg.rf.8ef8628660c35a1a177faa540ca27830.jpg\n",
            "10165_jpg.rf.4f223ec07104ea25d93541c256220803.jpg\n",
            "10166_jpg.rf.b79d9de285602b011c3c207364defdd1.jpg\n",
            "10167_jpg.rf.de179b98a636140bd028d454deca1360.jpg\n",
            "10168_jpg.rf.643b6cdc948ca356f5ee205e5e5460ce.jpg\n",
            "10169_jpg.rf.8a84eb6dc416c119ed9e60b2cfaf9218.jpg\n",
            "10170_jpg.rf.a51571e5ba5909f7f27bd2aec43033cf.jpg\n",
            "10171_jpg.rf.59504eea0343096f42c39384b463c989.jpg\n",
            "10172_jpg.rf.777a2bd2dcf61e36da13cc3614168cb4.jpg\n",
            "10173_jpg.rf.591ef4f3be1fd5dd3ace56e065d1a8f2.jpg\n",
            "10174_jpg.rf.3cff0f6ae3d45e4c391155540148c297.jpg\n",
            "10175_jpg.rf.78883f766a5f03aa5efc394129aa557c.jpg\n",
            "10176_jpg.rf.8a182161b78eea47637ad84399dabd14.jpg\n",
            "10177_jpg.rf.c83b6e2c4f40588f16138415ee3f2855.jpg\n",
            "10178_jpg.rf.6cc2b782f2eadac879258beddb0bd12f.jpg\n",
            "10179_jpg.rf.8dd671edba3f8a829a0219aed74cc995.jpg\n",
            "10180_jpg.rf.e4ae440315a385c4e8d843b4b664c690.jpg\n",
            "10181_jpg.rf.e23026cade73ba60161cead242d0beaf.jpg\n",
            "10182_jpg.rf.7a8347320600c5e86336480d992f0641.jpg\n",
            "10183_jpg.rf.7c3adc9512227da741274967fc542b68.jpg\n",
            "10184_jpg.rf.5e0b9a9f63e0db2472e7dabd7354d855.jpg\n",
            "10185_jpg.rf.2bc2db9211262c72e83146db0eb5e7ab.jpg\n",
            "10186_jpg.rf.2453e9803eea0ed73923680fda11e7fa.jpg\n",
            "10187_jpg.rf.f6ab0d04299fd13994b225a4f5ffec12.jpg\n",
            "10188_jpg.rf.9dc719e50d3e3a4acca299b74714b0c3.jpg\n",
            "10189_jpg.rf.ca93616844cfa51424b4205f8620d4f1.jpg\n",
            "10190_jpg.rf.6020c7937c2af91a038df8d6109b31fc.jpg\n",
            "10191_jpg.rf.fdc766c0a9594b35ca3e97e7263994ef.jpg\n",
            "10192_jpg.rf.6d36fb5ef329c116fab647031f4add3e.jpg\n",
            "10193_jpg.rf.2066861a6e82e57ab79319a59a6fb9e7.jpg\n",
            "10194_jpg.rf.caedebfc03bdfdeccb36abe6be00aa54.jpg\n",
            "10195_jpg.rf.41cc9452a3b0e9ba2d720ebcebc723e8.jpg\n",
            "10196_jpg.rf.8429381bafc9f35b79cf286795094be1.jpg\n",
            "10197_jpg.rf.78a48f27aa0fbec823d7036b084ae03b.jpg\n",
            "10198_jpg.rf.12b0ee0089295735e318f091fee17830.jpg\n",
            "10199_jpg.rf.02e717edf5e3892eb6a1a5ab9d1276c6.jpg\n",
            "10200_jpg.rf.0be03d829edd8a95e6c301727cb5bc1d.jpg\n",
            "10201_jpg.rf.837dbe61220de7869b1ff48249902a4e.jpg\n",
            "10202_jpg.rf.02d1730cc022ebe6cb2fed08bf27119d.jpg\n",
            "10203_jpg.rf.03ee8b638a82270f49ad4ca2c5edf686.jpg\n",
            "10242_jpg.rf.a1f0ea00d5166582a0506e69d5e2bbe0.jpg\n",
            "10243_jpg.rf.0d8358cb1c836b4ae0f860438170dbea.jpg\n",
            "10244_jpg.rf.71b05b69e7dbf227d376b695ede0e0eb.jpg\n",
            "10245_jpg.rf.9a5b49e720adcd71a0463f516055a30c.jpg\n",
            "10246_jpg.rf.a03d1d91919b16f78a538b920809aefc.jpg\n",
            "10247_jpg.rf.ab7b0a469b377fd7bedc67476b103231.jpg\n",
            "10248_jpg.rf.ad3ea209680c89920573112ac3c2e893.jpg\n",
            "10249_jpg.rf.d92b6a34f6cff10d8673360830e03163.jpg\n",
            "10250_jpg.rf.3087c4df838dbed1c46f0b6ec02e7a33.jpg\n",
            "10251_jpg.rf.c21036a5651a9f99ab98d2236a2d6875.jpg\n",
            "10252_jpg.rf.9efc58a6f63f0ef94c86aee8078c8bff.jpg\n",
            "10253_jpg.rf.353a69709cb93dd92eb981c1c22e1da0.jpg\n",
            "10254_jpg.rf.4a7f23e73315874cb8aea7568f947b80.jpg\n",
            "10255_jpg.rf.cb00245193d4db050fdc2a4e2ebb2c6f.jpg\n",
            "10256_jpg.rf.d3328a8e8728acf4da7cfb7e7f556fcc.jpg\n",
            "10257_jpg.rf.0ad0042358502b4876bb8d0142f720ee.jpg\n",
            "10258_jpg.rf.b58f104f7998e6d6efa8c78ace238a31.jpg\n",
            "10259_jpg.rf.39507525a1d5497ab66de0ade15087af.jpg\n",
            "10260_jpg.rf.6f1d9e4bec3b055ba69be9b852947c23.jpg\n",
            "10261_jpg.rf.74bc84ed9d93b3643ac919589e231cc8.jpg\n",
            "10262_jpg.rf.0a441cfa108a07f6aeb32759c9ff32e9.jpg\n",
            "10263_jpg.rf.362f93fda97f952e1598976cac19db10.jpg\n",
            "10264_jpg.rf.9eb3a37c03710d7a59f0f58aa3623093.jpg\n",
            "10265_jpg.rf.9197162dbef8544923a9e8e9eb11190f.jpg\n",
            "10266_jpg.rf.3ac56c67c86bf2ff43ebf8629de1ffa1.jpg\n",
            "10267_jpg.rf.ee785f349fdf1b725a3176d094013f66.jpg\n",
            "10268_jpg.rf.31e53cbb295f468c92f4d57e397ad1ae.jpg\n",
            "10269_jpg.rf.028de3d7c157da4c9eb12b8990babf7a.jpg\n",
            "10270_jpg.rf.59886ba7de681299cdcf57c420ea1ae2.jpg\n",
            "10271_jpg.rf.b1918079b027ae5503afccb3cbdd1fb5.jpg\n",
            "10272_jpg.rf.87103b40523bc803fd6912c9d55ef7ca.jpg\n",
            "10273_jpg.rf.34eb74bbe05f604746d72856a6d39fb3.jpg\n",
            "10274_jpg.rf.b569b8ffc099e05a1d9df18da003917d.jpg\n",
            "10275_jpg.rf.ba648dc6753850f60e4b74fbde217ddb.jpg\n",
            "10279_jpg.rf.1f0c99898c5c4583ca0fe8b416e2532d.jpg\n",
            "10280_jpg.rf.304269e9e8dfa6d93ea7072748f43493.jpg\n",
            "10281_jpg.rf.492b2de02fc7f86f9b392f3084fa65b5.jpg\n",
            "10282_jpg.rf.e7823fac85b29d335d1a09194836f11a.jpg\n",
            "10283_jpg.rf.5dbd0c58356e44b72eca85f0bb0b0ec7.jpg\n",
            "10284_jpg.rf.25d7f387e426db131a714c9c142bae26.jpg\n",
            "10285_jpg.rf.fd765db8732bb32b7abdc20d909108c0.jpg\n",
            "10426_jpg.rf.b15a544c5a3cac05b46b41f2366d6658.jpg\n",
            "10427_jpg.rf.bdff03381562e54036ee148c43c3c5aa.jpg\n",
            "10428_jpg.rf.b11715871a0a435e4ce8301b74b88866.jpg\n",
            "10429_jpg.rf.7bb6257174f8d776fa4c35172d539e1d.jpg\n",
            "10430_jpg.rf.e1b8f7ffeb155375b7ef1355e797ac64.jpg\n",
            "10431_jpg.rf.045124d28033bc56a7ec4d16455e039b.jpg\n",
            "10432_jpg.rf.1f559cc9634701f04d08f0c6e0ffd7b9.jpg\n",
            "10433_jpg.rf.ce6c10788d1d7c7a0258f8e5e5f4f092.jpg\n",
            "10434_jpg.rf.bd0bda29f02490352d54478ddf4ff929.jpg\n",
            "10435_jpg.rf.5a8c893b5aa9870deb954887a7e91f44.jpg\n",
            "10436_jpg.rf.e5adb616d6987b1f79afe447ddd6c1f0.jpg\n",
            "10437_jpg.rf.0af11746fd0652d333f2c491398e2b47.jpg\n",
            "10438_jpg.rf.75f11cc3745353b8b068d463cf6731b4.jpg\n",
            "10439_jpg.rf.fedf7c9d7e716669783c4331bfa9264a.jpg\n",
            "10440_jpg.rf.cc4c484e32b3bccd2875a02457bb51ed.jpg\n",
            "10448_jpg.rf.b2bdc29d5f2b05eb1535d02f28634a4d.jpg\n",
            "10449_jpg.rf.0c8b8a18044c6d707bbaaf688f0933ed.jpg\n",
            "10450_jpg.rf.ce9e4db7280b4ed5f850a725fea20581.jpg\n",
            "10451_jpg.rf.53389509e48ae4798e87338380fc160d.jpg\n",
            "10454_jpg.rf.a2fc3d50640d9f9c3643b48bad99a672.jpg\n",
            "10455_jpg.rf.218cbe6aa56bd9dd3913d35645435399.jpg\n",
            "10456_jpg.rf.80cabfd631e8df5b46e27bb1d438a222.jpg\n",
            "10457_jpg.rf.17b0c846a997e5b718bbf90e6f04a40d.jpg\n",
            "10458_jpg.rf.310781159291f7545049b1eb9037ccf4.jpg\n",
            "10459_jpg.rf.10e92b85aafca756264fa04e351a88b9.jpg\n",
            "10460_jpg.rf.8ba6a2777d6aae2de1e91fd2321f9edd.jpg\n",
            "10461_jpg.rf.072615e0f7dc17d08f5b73c11871093b.jpg\n",
            "10462_jpg.rf.f7f6b91209d678b6a7f7e75865db57b4.jpg\n",
            "10463_jpg.rf.04b369962ec45c0c69307fbbc2cd3645.jpg\n",
            "10464_jpg.rf.86a88cdc498ecd3950fc38ff381ca6b6.jpg\n",
            "10465_jpg.rf.63720614df32b54e7638528386818d1d.jpg\n",
            "10466_jpg.rf.55bf55e97956a05167a6019953ab2672.jpg\n",
            "10467_jpg.rf.f82017a08f2e13278762c6c4e44113af.jpg\n",
            "10468_jpg.rf.bfe266049a0cc2f64fbce2e77a8137f3.jpg\n",
            "10469_jpg.rf.e32eddc3181611587478f619df1207ff.jpg\n",
            "10470_jpg.rf.b4adf810c4fd199b355d4584648af0a5.jpg\n",
            "10471_jpg.rf.4eecddfe1c607265be77cfdbf2fa394f.jpg\n",
            "10472_jpg.rf.2727cb59b3a543fab5cccfa7796a9ad9.jpg\n",
            "10473_jpg.rf.b7c0ee33711da477153a78972152e1df.jpg\n",
            "10474_jpg.rf.8def39b73891474e3dccb3af4cae7c21.jpg\n",
            "10475_jpg.rf.95598c30dd63daf8f1b4d9c0527df768.jpg\n",
            "10476_jpg.rf.223f52d004fc3296f4f230e7dafe456e.jpg\n",
            "10477_jpg.rf.51a3cf35dfd8bccf29b4620011d0cfa5.jpg\n",
            "10478_jpg.rf.9041a231c24a19370f788e539837253c.jpg\n",
            "10479_jpg.rf.01716ba221169a38256802f24e39671a.jpg\n",
            "10480_jpg.rf.8536e037013d901620adbab782458579.jpg\n",
            "10481_jpg.rf.47fc8b168152a5a641db6114905114fa.jpg\n",
            "10482_jpg.rf.9dd642aaed6b572d58079dc748e542af.jpg\n",
            "10483_jpg.rf.542b1275c95abee7924f91728aae9193.jpg\n",
            "10484_jpg.rf.bab3c5e2974cc3961991c0dc9a0044b3.jpg\n"
          ]
        }
      ]
    },
    {
      "cell_type": "code",
      "source": [
        "import os\n",
        "print(\"Model exists:\", os.path.exists('/content/ESRGAN/models/ESRGAN_4x.pth'))\n",
        "print(\"Input folder exists:\", os.path.exists('/content/drive/MyDrive/combined_folder/normal/'))\n",
        "print(\"Output folder exists:\", os.path.exists('/content/drive/MyDrive/output/normal'))"
      ],
      "metadata": {
        "colab": {
          "base_uri": "https://localhost:8080/"
        },
        "id": "XYzrmT71quF6",
        "outputId": "3cc3d4a1-ddde-4225-91eb-b97f7bb703cc"
      },
      "execution_count": 11,
      "outputs": [
        {
          "output_type": "stream",
          "name": "stdout",
          "text": [
            "Model exists: True\n",
            "Input folder exists: True\n",
            "Output folder exists: True\n"
          ]
        }
      ]
    },
    {
      "cell_type": "code",
      "source": [
        "!python test.py"
      ],
      "metadata": {
        "colab": {
          "base_uri": "https://localhost:8080/"
        },
        "id": "K-wj0JmOq028",
        "outputId": "965bda13-d3bc-4e1e-914c-468052169660"
      },
      "execution_count": 15,
      "outputs": [
        {
          "output_type": "stream",
          "name": "stdout",
          "text": [
            "Traceback (most recent call last):\n",
            "  File \"/content/ESRGAN/test.py\", line 23, in <module>\n",
            "    model.load_state_dict(torch.load(model_path), strict=True)\n",
            "                          ^^^^^^^^^^^^^^^^^^^^^^\n",
            "  File \"/usr/local/lib/python3.12/dist-packages/torch/serialization.py\", line 1484, in load\n",
            "    with _open_file_like(f, \"rb\") as opened_file:\n",
            "         ^^^^^^^^^^^^^^^^^^^^^^^^\n",
            "  File \"/usr/local/lib/python3.12/dist-packages/torch/serialization.py\", line 759, in _open_file_like\n",
            "    return _open_file(name_or_buffer, mode)\n",
            "           ^^^^^^^^^^^^^^^^^^^^^^^^^^^^^^^^\n",
            "  File \"/usr/local/lib/python3.12/dist-packages/torch/serialization.py\", line 740, in __init__\n",
            "    super().__init__(open(name, mode))\n",
            "                     ^^^^^^^^^^^^^^^^\n",
            "FileNotFoundError: [Errno 2] No such file or directory: '/content/ESRGAN/models/ESRGAN_x4plus.pth'\n"
          ]
        }
      ]
    },
    {
      "cell_type": "code",
      "source": [],
      "metadata": {
        "id": "fO1QPOF-rkIT"
      },
      "execution_count": null,
      "outputs": []
    }
  ]
}