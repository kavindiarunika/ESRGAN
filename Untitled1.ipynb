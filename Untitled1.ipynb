{
  "nbformat": 4,
  "nbformat_minor": 0,
  "metadata": {
    "colab": {
      "provenance": [],
      "authorship_tag": "ABX9TyOjvRP3RrKvLS+6cmwMphlg",
      "include_colab_link": true
    },
    "kernelspec": {
      "name": "python3",
      "display_name": "Python 3"
    },
    "language_info": {
      "name": "python"
    }
  },
  "cells": [
    {
      "cell_type": "markdown",
      "metadata": {
        "id": "view-in-github",
        "colab_type": "text"
      },
      "source": [
        "<a href=\"https://colab.research.google.com/github/kavindiarunika/ESRGAN/blob/main/Untitled1.ipynb\" target=\"_parent\"><img src=\"https://colab.research.google.com/assets/colab-badge.svg\" alt=\"Open In Colab\"/></a>"
      ]
    },
    {
      "cell_type": "code",
      "execution_count": 1,
      "metadata": {
        "colab": {
          "base_uri": "https://localhost:8080/"
        },
        "id": "_bOPoQZB27un",
        "outputId": "3eaebd7d-7180-4c75-da08-97ec13c560fc"
      },
      "outputs": [
        {
          "output_type": "stream",
          "name": "stdout",
          "text": [
            "Mounted at /content/drive\n"
          ]
        }
      ],
      "source": [
        "from google.colab import drive\n",
        "drive.mount('/content/drive')\n"
      ]
    },
    {
      "cell_type": "code",
      "source": [
        "import os\n",
        "import cv2\n",
        "\n",
        "# Change this path to where your dataset is in Google Drive\n",
        "image_folder = \"/content/drive/MyDrive/Colab Notebooks/output/cysts\"   # input images\n",
        "output_folder = \"/content/drive/MyDrive/dataset/cyst\"  # output cleaned images\n",
        "\n",
        "# Create output folder if not exists\n",
        "os.makedirs(output_folder, exist_ok=True)\n"
      ],
      "metadata": {
        "id": "cjn1W_zk3Bj_"
      },
      "execution_count": 2,
      "outputs": []
    },
    {
      "cell_type": "code",
      "source": [
        "for filename in os.listdir(image_folder):\n",
        "    if filename.lower().endswith((\".png\", \".jpg\", \".jpeg\")):  # support multiple formats\n",
        "        img_path = os.path.join(image_folder, filename)\n",
        "\n",
        "        # Load grayscale\n",
        "        img = cv2.imread(img_path, 0)\n",
        "\n",
        "        if img is None:\n",
        "            print(f\"⚠️ Skipping {filename}, could not load.\")\n",
        "            continue\n",
        "\n",
        "        # 1) Median filter to reduce speckle noise\n",
        "        denoised = cv2.medianBlur(img, 5)\n",
        "\n",
        "        # 2) CLAHE for contrast enhancement\n",
        "        clahe = cv2.createCLAHE(clipLimit=2.0, tileGridSize=(8,8))\n",
        "        enhanced = clahe.apply(denoised)\n",
        "\n",
        "        # Save cleaned image\n",
        "        save_path = os.path.join(output_folder, filename)\n",
        "        cv2.imwrite(save_path, enhanced)\n",
        "        print(f\"✅ Saved cleaned image: {save_path}\")\n"
      ],
      "metadata": {
        "colab": {
          "base_uri": "https://localhost:8080/"
        },
        "id": "B5r9fXay8ZwX",
        "outputId": "b805e5ee-830b-4b6e-c8b9-b6bef4ab9127"
      },
      "execution_count": 3,
      "outputs": [
        {
          "output_type": "stream",
          "name": "stdout",
          "text": [
            "✅ Saved cleaned image: /content/drive/MyDrive/dataset/cyst/10_jpg.rf.0608f576c7b031dd54b5b470317dc772_rlt.png\n",
            "✅ Saved cleaned image: /content/drive/MyDrive/dataset/cyst/10_jpg.rf.4ced4f414e2d8ef5447beceab28141bd_rlt.png\n",
            "✅ Saved cleaned image: /content/drive/MyDrive/dataset/cyst/10_jpg.rf.5b4a756c8356654ac98adc971f924ca3_rlt.png\n",
            "✅ Saved cleaned image: /content/drive/MyDrive/dataset/cyst/11_jpg.rf.caa4cdaeecd4e7c13a02c9edae63d929_rlt.png\n",
            "✅ Saved cleaned image: /content/drive/MyDrive/dataset/cyst/12_jpg.rf.5259689ee86a56febed6ea0a5d0dd01b_rlt.png\n",
            "✅ Saved cleaned image: /content/drive/MyDrive/dataset/cyst/12_jpg.rf.63aecb22b40f1f2f2e49224ad49e91d6_rlt.png\n",
            "✅ Saved cleaned image: /content/drive/MyDrive/dataset/cyst/12_jpg.rf.f38a5d24e560c9b59091974821227d02_rlt.png\n",
            "✅ Saved cleaned image: /content/drive/MyDrive/dataset/cyst/13_jpg.rf.0f9f66f8938d3b52bb30c89b5dd12277_rlt.png\n",
            "✅ Saved cleaned image: /content/drive/MyDrive/dataset/cyst/13_jpg.rf.b144ebff717e434e02bee46fbe5f8e95_rlt.png\n",
            "✅ Saved cleaned image: /content/drive/MyDrive/dataset/cyst/13_jpg.rf.f035550aeff622aced24a3de02949fa9_rlt.png\n",
            "✅ Saved cleaned image: /content/drive/MyDrive/dataset/cyst/14_jpg.rf.1c5b00aa5d1c04e61effbb5dc37da530_rlt.png\n",
            "✅ Saved cleaned image: /content/drive/MyDrive/dataset/cyst/16_jpg.rf.1df7658b8d14b9ec5d85b0cf95d16262_rlt.png\n",
            "✅ Saved cleaned image: /content/drive/MyDrive/dataset/cyst/16_jpg.rf.7b3c7f11a6636f2acf94d0e0f5386d23_rlt.png\n",
            "✅ Saved cleaned image: /content/drive/MyDrive/dataset/cyst/16_jpg.rf.fce7ab0b2f1ea571eb714574e708ec7e_rlt.png\n",
            "✅ Saved cleaned image: /content/drive/MyDrive/dataset/cyst/17_jpg.rf.7305acc8c4efe9c2b2c1da115eed3818_rlt.png\n",
            "✅ Saved cleaned image: /content/drive/MyDrive/dataset/cyst/17_jpg.rf.d5a4fe18a3f6e07f766a3aaf4660ae03_rlt.png\n",
            "✅ Saved cleaned image: /content/drive/MyDrive/dataset/cyst/17_jpg.rf.fc9bf09585a7f77a7b9c24fe9fc92be3_rlt.png\n",
            "✅ Saved cleaned image: /content/drive/MyDrive/dataset/cyst/18_jpg.rf.9891f828b858988f1ac61f2219be5b41_rlt.png\n",
            "✅ Saved cleaned image: /content/drive/MyDrive/dataset/cyst/19_jpg.rf.49e65a34e23cc86399e3e46480d08b07_rlt.png\n",
            "✅ Saved cleaned image: /content/drive/MyDrive/dataset/cyst/19_jpg.rf.4dbbce4eb905fdfbed1b819e3989c0d7_rlt.png\n",
            "✅ Saved cleaned image: /content/drive/MyDrive/dataset/cyst/19_jpg.rf.71e0e13280ebbbfaba2d5af60f0b7b11_rlt.png\n",
            "✅ Saved cleaned image: /content/drive/MyDrive/dataset/cyst/1_jpg.rf.09f0640257fcc94f2fa7e00339842f4d_rlt.png\n",
            "✅ Saved cleaned image: /content/drive/MyDrive/dataset/cyst/1_jpg.rf.d385bf3c5b973b768aaa3edbd103fd74_rlt.png\n",
            "✅ Saved cleaned image: /content/drive/MyDrive/dataset/cyst/1_jpg.rf.f983e80e0d1f43a31277820f4eac8852_rlt.png\n",
            "✅ Saved cleaned image: /content/drive/MyDrive/dataset/cyst/20_jpg.rf.8b0235ea16d5c07ea49608ffaab53503_rlt.png\n",
            "✅ Saved cleaned image: /content/drive/MyDrive/dataset/cyst/21_jpg.rf.4447b4c49db99e433cffae8d0d86c66e_rlt.png\n",
            "✅ Saved cleaned image: /content/drive/MyDrive/dataset/cyst/21_jpg.rf.83fe19e636da68d200cde3a7d3b2a71e_rlt.png\n",
            "✅ Saved cleaned image: /content/drive/MyDrive/dataset/cyst/21_jpg.rf.faa49f5736ac3aec85851023a7b5fb52_rlt.png\n",
            "✅ Saved cleaned image: /content/drive/MyDrive/dataset/cyst/22_jpg.rf.c166a41319d68873bfe2af2a3c7f99e9_rlt.png\n",
            "✅ Saved cleaned image: /content/drive/MyDrive/dataset/cyst/22_jpg.rf.ec6af5ba47a3b0054641fa64ccc1ddc6_rlt.png\n",
            "✅ Saved cleaned image: /content/drive/MyDrive/dataset/cyst/22_jpg.rf.fadd7515ead3a5cf329dcb63f7a4b8a2_rlt.png\n",
            "✅ Saved cleaned image: /content/drive/MyDrive/dataset/cyst/23_jpg.rf.cb6cc8f44ded2d6a6d5c013f8a138d4b_rlt.png\n",
            "✅ Saved cleaned image: /content/drive/MyDrive/dataset/cyst/24_jpg.rf.2c37540a78f250b8d5ee5eab8bff8480_rlt.png\n",
            "✅ Saved cleaned image: /content/drive/MyDrive/dataset/cyst/24_jpg.rf.67d69e2349e9a62e4450c800ae8d5ee6_rlt.png\n",
            "✅ Saved cleaned image: /content/drive/MyDrive/dataset/cyst/24_jpg.rf.b69a946cd7efb24b16e72bf0b3875e16_rlt.png\n",
            "✅ Saved cleaned image: /content/drive/MyDrive/dataset/cyst/25_jpg.rf.1d5ead1785f5a2398e92774142d318c9_rlt.png\n",
            "✅ Saved cleaned image: /content/drive/MyDrive/dataset/cyst/25_jpg.rf.92aed13c7d996f3fb8ffbba97b7c2292_rlt.png\n",
            "✅ Saved cleaned image: /content/drive/MyDrive/dataset/cyst/25_jpg.rf.c61e825a29fa04d6650ef2bca0f177c7_rlt.png\n",
            "✅ Saved cleaned image: /content/drive/MyDrive/dataset/cyst/26_jpg.rf.8754c86085b72a18907bb9934d4a27ae_rlt.png\n",
            "✅ Saved cleaned image: /content/drive/MyDrive/dataset/cyst/26_jpg.rf.c66df0d12d5ad07daa1b350aaba897f6_rlt.png\n",
            "✅ Saved cleaned image: /content/drive/MyDrive/dataset/cyst/26_jpg.rf.f70de160c8f9c1cf614541421e54354a_rlt.png\n",
            "✅ Saved cleaned image: /content/drive/MyDrive/dataset/cyst/27_jpg.rf.123bd9d91543e521d00b282d81fcc812_rlt.png\n",
            "✅ Saved cleaned image: /content/drive/MyDrive/dataset/cyst/27_jpg.rf.2cebf6869ce95eedb792252026f47b37_rlt.png\n",
            "✅ Saved cleaned image: /content/drive/MyDrive/dataset/cyst/27_jpg.rf.c55dbd940e1dfad10d7b37d6c20bbfdd_rlt.png\n",
            "✅ Saved cleaned image: /content/drive/MyDrive/dataset/cyst/28_jpg.rf.362d09385cf11935744ac0fe3ee1d158_rlt.png\n",
            "✅ Saved cleaned image: /content/drive/MyDrive/dataset/cyst/29_jpg.rf.706ddd82c2d511e52405226b1754303e_rlt.png\n",
            "✅ Saved cleaned image: /content/drive/MyDrive/dataset/cyst/29_jpg.rf.9b8080a795b247bcb80c49b65e90fd1b_rlt.png\n",
            "✅ Saved cleaned image: /content/drive/MyDrive/dataset/cyst/29_jpg.rf.9ce7a65cdf1dd624ba4f2496f37a792e_rlt.png\n",
            "✅ Saved cleaned image: /content/drive/MyDrive/dataset/cyst/2_jpg.rf.748a6c8b377428603a451f187bdf89fa_rlt.png\n",
            "✅ Saved cleaned image: /content/drive/MyDrive/dataset/cyst/3-1_jpg.rf.1666720e046ca94121e40845711c2a24_rlt.png\n",
            "✅ Saved cleaned image: /content/drive/MyDrive/dataset/cyst/3-1_jpg.rf.5485f1ea8d5fd91abebca9d7de629e3e_rlt.png\n",
            "✅ Saved cleaned image: /content/drive/MyDrive/dataset/cyst/3-1_jpg.rf.8dafa08926d69024d9b7c9bc6572003a_rlt.png\n",
            "✅ Saved cleaned image: /content/drive/MyDrive/dataset/cyst/30_jpg.rf.10fe023ae56299e4688559ad870804b2_rlt.png\n",
            "✅ Saved cleaned image: /content/drive/MyDrive/dataset/cyst/30_jpg.rf.82dfda26bbcca76daa0fc277275d5b3a_rlt.png\n",
            "✅ Saved cleaned image: /content/drive/MyDrive/dataset/cyst/30_jpg.rf.d078b9808edb088ef82fc7eb9a7141b0_rlt.png\n",
            "✅ Saved cleaned image: /content/drive/MyDrive/dataset/cyst/31_jpg.rf.721917c330c99ea539357be0a4fad9ad_rlt.png\n",
            "✅ Saved cleaned image: /content/drive/MyDrive/dataset/cyst/32_jpg.rf.03f1250c8c301f752dfcf48bf10ce336_rlt.png\n",
            "✅ Saved cleaned image: /content/drive/MyDrive/dataset/cyst/32_jpg.rf.63097c2f95425d682716355c59378fcd_rlt.png\n",
            "✅ Saved cleaned image: /content/drive/MyDrive/dataset/cyst/32_jpg.rf.c132fe33fa6577c6decdc330c9750e6a_rlt.png\n",
            "✅ Saved cleaned image: /content/drive/MyDrive/dataset/cyst/33_jpg.rf.29c68248becd1aa8d34805ae0eda4c56_rlt.png\n",
            "✅ Saved cleaned image: /content/drive/MyDrive/dataset/cyst/33_jpg.rf.875ff05fe25103d48b78e229641fd5fb_rlt.png\n",
            "✅ Saved cleaned image: /content/drive/MyDrive/dataset/cyst/33_jpg.rf.fb38d2056125f99450a91ff6871c75c8_rlt.png\n",
            "✅ Saved cleaned image: /content/drive/MyDrive/dataset/cyst/34_jpg.rf.4023b8472f3cb0033c116ae942bfd63d_rlt.png\n",
            "✅ Saved cleaned image: /content/drive/MyDrive/dataset/cyst/34_jpg.rf.4b28ad3381134da9774188a9608e622a_rlt.png\n",
            "✅ Saved cleaned image: /content/drive/MyDrive/dataset/cyst/34_jpg.rf.8df58e074c360a05cf2c0d484e4acd66_rlt.png\n",
            "✅ Saved cleaned image: /content/drive/MyDrive/dataset/cyst/35_jpg.rf.af33d0d054019b357e879c59fac0c4ef_rlt.png\n",
            "✅ Saved cleaned image: /content/drive/MyDrive/dataset/cyst/36_jpg.rf.268fa26ea34861da9198ddb9ed082a8a_rlt.png\n",
            "✅ Saved cleaned image: /content/drive/MyDrive/dataset/cyst/36_jpg.rf.5e02ba8ef59377942f07850e992e9973_rlt.png\n",
            "✅ Saved cleaned image: /content/drive/MyDrive/dataset/cyst/36_jpg.rf.d41d2e91534f798b80e6eceef68b2eb5_rlt.png\n",
            "✅ Saved cleaned image: /content/drive/MyDrive/dataset/cyst/37_jpg.rf.021ff7f977b4389b7b77ba694364f869_rlt.png\n",
            "✅ Saved cleaned image: /content/drive/MyDrive/dataset/cyst/4_jpg.rf.0709de24822840cc66dd671d8ca97d3f_rlt.png\n",
            "✅ Saved cleaned image: /content/drive/MyDrive/dataset/cyst/4_jpg.rf.0cda8c1be4bdd4188b4b12121fe6369e_rlt.png\n",
            "✅ Saved cleaned image: /content/drive/MyDrive/dataset/cyst/4_jpg.rf.6d0383df0afc4338325140848dc31bc3_rlt.png\n",
            "✅ Saved cleaned image: /content/drive/MyDrive/dataset/cyst/5_jpg.rf.7971bcad94a0825f82f9b70113f89a8f_rlt.png\n",
            "✅ Saved cleaned image: /content/drive/MyDrive/dataset/cyst/5_jpg.rf.7cceeedc31f6dd04b15da1e5ffd16798_rlt.png\n",
            "✅ Saved cleaned image: /content/drive/MyDrive/dataset/cyst/5_jpg.rf.ae2034d9268ec803ef6013e4d1f9f5bd_rlt.png\n",
            "✅ Saved cleaned image: /content/drive/MyDrive/dataset/cyst/6_jpg.rf.102e1c39654186e3e4ec4a8ebd95891f_rlt.png\n",
            "✅ Saved cleaned image: /content/drive/MyDrive/dataset/cyst/6_jpg.rf.52b467e7e2113e2979f48963b28bcc02_rlt.png\n",
            "✅ Saved cleaned image: /content/drive/MyDrive/dataset/cyst/6_jpg.rf.92b79fd2e56ad3c3ed75e2496ff89795_rlt.png\n",
            "✅ Saved cleaned image: /content/drive/MyDrive/dataset/cyst/7_jpg.rf.034c2366e52146d4e6d3b684f20638aa_rlt.png\n",
            "✅ Saved cleaned image: /content/drive/MyDrive/dataset/cyst/7_jpg.rf.1e7927cb5dc8a46d5c372ab2ebd7f7a4_rlt.png\n",
            "✅ Saved cleaned image: /content/drive/MyDrive/dataset/cyst/7_jpg.rf.e33b1c942308195e11891a6fae612871_rlt.png\n",
            "✅ Saved cleaned image: /content/drive/MyDrive/dataset/cyst/8_jpg.rf.07ad639374116c851c3a5e795d9ba373_rlt.png\n",
            "✅ Saved cleaned image: /content/drive/MyDrive/dataset/cyst/8_jpg.rf.0cb73bd663c2a925c03c109a97b8dd02_rlt.png\n",
            "✅ Saved cleaned image: /content/drive/MyDrive/dataset/cyst/8_jpg.rf.548832df93ae4351872dfd429a62306b_rlt.png\n",
            "✅ Saved cleaned image: /content/drive/MyDrive/dataset/cyst/9_jpg.rf.9ef8c306cfd08c8c0e0064820c63a8de_rlt.png\n"
          ]
        }
      ]
    },
    {
      "cell_type": "code",
      "source": [
        "# Change this path to where your dataset is in Google Drive\n",
        "image_folder = \"/content/drive/MyDrive/Colab Notebooks/output/normal\"   # input images\n",
        "output_folder = \"/content/drive/MyDrive/dataset/normal\"  # output cleaned images\n",
        "\n",
        "# Create output folder if not exists\n",
        "os.makedirs(output_folder, exist_ok=True)\n"
      ],
      "metadata": {
        "id": "7Z9bDK-P8h37"
      },
      "execution_count": 4,
      "outputs": []
    },
    {
      "cell_type": "code",
      "source": [
        "for filename in os.listdir(image_folder):\n",
        "    if filename.lower().endswith((\".png\", \".jpg\", \".jpeg\")):  # support multiple formats\n",
        "        img_path = os.path.join(image_folder, filename)\n",
        "\n",
        "        # Load grayscale\n",
        "        img = cv2.imread(img_path, 0)\n",
        "\n",
        "        if img is None:\n",
        "            print(f\"⚠️ Skipping {filename}, could not load.\")\n",
        "            continue\n",
        "\n",
        "        # 1) Median filter to reduce speckle noise\n",
        "        denoised = cv2.medianBlur(img, 5)\n",
        "\n",
        "        # 2) CLAHE for contrast enhancement\n",
        "        clahe = cv2.createCLAHE(clipLimit=2.0, tileGridSize=(8,8))\n",
        "        enhanced = clahe.apply(denoised)\n",
        "\n",
        "        # Save cleaned image\n",
        "        save_path = os.path.join(output_folder, filename)\n",
        "        cv2.imwrite(save_path, enhanced)\n",
        "        print(f\"✅ Saved cleaned image: {save_path}\")\n"
      ],
      "metadata": {
        "colab": {
          "base_uri": "https://localhost:8080/"
        },
        "id": "mRCsl8APoL9J",
        "outputId": "254fecbc-28f8-4d76-c1e3-9a4a1019a7d0"
      },
      "execution_count": 5,
      "outputs": [
        {
          "output_type": "stream",
          "name": "stdout",
          "text": [
            "✅ Saved cleaned image: /content/drive/MyDrive/dataset/normal/10113_jpg.rf.955f3c8cde9671d9a3ab4144d32a5019_rlt.png\n",
            "✅ Saved cleaned image: /content/drive/MyDrive/dataset/normal/10114_jpg.rf.7c5fb8d8f3d9ceeb71d292c0ed01d71d_rlt.png\n",
            "✅ Saved cleaned image: /content/drive/MyDrive/dataset/normal/10115_jpg.rf.80f10baa2e373b8ba6f9e0e0913aaae1_rlt.png\n",
            "✅ Saved cleaned image: /content/drive/MyDrive/dataset/normal/10116_jpg.rf.71014d0171d79e5c4bc508dcf8ad6731_rlt.png\n",
            "✅ Saved cleaned image: /content/drive/MyDrive/dataset/normal/10117_jpg.rf.ce1862edd186ea078edf20901d01f55e_rlt.png\n",
            "✅ Saved cleaned image: /content/drive/MyDrive/dataset/normal/10118_jpg.rf.732276db4870508ff37ae45c87588a63_rlt.png\n",
            "✅ Saved cleaned image: /content/drive/MyDrive/dataset/normal/10119_jpg.rf.454c80712bcad490a1a8e80c07d5a24f_rlt.png\n",
            "✅ Saved cleaned image: /content/drive/MyDrive/dataset/normal/10120_jpg.rf.ef07b700203b5d78fff459a06f8d5614_rlt.png\n",
            "✅ Saved cleaned image: /content/drive/MyDrive/dataset/normal/10121_jpg.rf.72cbd721f8caf8602d9b6caca3b2c34e_rlt.png\n",
            "✅ Saved cleaned image: /content/drive/MyDrive/dataset/normal/10122_jpg.rf.ec048c3af98e339c328bf33bf684e29c_rlt.png\n",
            "✅ Saved cleaned image: /content/drive/MyDrive/dataset/normal/10123_jpg.rf.25b26d8dbe1afb68a2b3ae2b7c04c495_rlt.png\n",
            "✅ Saved cleaned image: /content/drive/MyDrive/dataset/normal/10124_jpg.rf.624cfadf85f4bf9f2a3041968a36be39_rlt.png\n",
            "✅ Saved cleaned image: /content/drive/MyDrive/dataset/normal/10125_jpg.rf.6ca4e1918eec35348072c04c6ade4ee3_rlt.png\n",
            "✅ Saved cleaned image: /content/drive/MyDrive/dataset/normal/10126_jpg.rf.bb5055723aa4d8e9a4d863519ee50325_rlt.png\n",
            "✅ Saved cleaned image: /content/drive/MyDrive/dataset/normal/10127_jpg.rf.c4add3a4ba8d5cdfaca669371cd7cd42_rlt.png\n",
            "✅ Saved cleaned image: /content/drive/MyDrive/dataset/normal/10128_jpg.rf.b5097277252ecc8a506a2aed61f634a3_rlt.png\n",
            "✅ Saved cleaned image: /content/drive/MyDrive/dataset/normal/10129_jpg.rf.c9b6b9b6d1a33c3f51d116b6feb57748_rlt.png\n",
            "✅ Saved cleaned image: /content/drive/MyDrive/dataset/normal/10130_jpg.rf.2886f70a95e8b179ef507f4df636da15_rlt.png\n",
            "✅ Saved cleaned image: /content/drive/MyDrive/dataset/normal/10131_jpg.rf.42b0251b03fccb610e42b1af5ef9cece_rlt.png\n",
            "✅ Saved cleaned image: /content/drive/MyDrive/dataset/normal/10132_jpg.rf.677e28c22be2598f1b51386b3e991a97_rlt.png\n",
            "✅ Saved cleaned image: /content/drive/MyDrive/dataset/normal/10133_jpg.rf.22123352ecb59e7e9c8441a5c8d71dcc_rlt.png\n",
            "✅ Saved cleaned image: /content/drive/MyDrive/dataset/normal/10134_jpg.rf.8860f2159a0e8816cb10f6b308d7d5da_rlt.png\n",
            "✅ Saved cleaned image: /content/drive/MyDrive/dataset/normal/10135_jpg.rf.e20005c90773724f89b1fb53e59f7f82_rlt.png\n",
            "✅ Saved cleaned image: /content/drive/MyDrive/dataset/normal/10136_jpg.rf.7b91da2ce2845a3a15aeaafd1b061a0d_rlt.png\n",
            "✅ Saved cleaned image: /content/drive/MyDrive/dataset/normal/10137_jpg.rf.27d035f3d3b6261a49304aacbcfd6f12_rlt.png\n",
            "✅ Saved cleaned image: /content/drive/MyDrive/dataset/normal/10138_jpg.rf.f069452db0447ee8d39d5065ac1ca852_rlt.png\n",
            "✅ Saved cleaned image: /content/drive/MyDrive/dataset/normal/10139_jpg.rf.d4b2085f29b9a10fa20efe42d1620ebe_rlt.png\n",
            "✅ Saved cleaned image: /content/drive/MyDrive/dataset/normal/10140_jpg.rf.2adbb36f9f04fc286aceb0cdb205b65f_rlt.png\n",
            "✅ Saved cleaned image: /content/drive/MyDrive/dataset/normal/10141_jpg.rf.63ab88a16b006623eaba0a61653047dc_rlt.png\n",
            "✅ Saved cleaned image: /content/drive/MyDrive/dataset/normal/10142_jpg.rf.52ac92e6e95d17f23ed11a9aba2c26e7_rlt.png\n",
            "✅ Saved cleaned image: /content/drive/MyDrive/dataset/normal/10143_jpg.rf.d3bdbfbc348ba8d046771a3c89f3098c_rlt.png\n",
            "✅ Saved cleaned image: /content/drive/MyDrive/dataset/normal/10144_jpg.rf.cac3bf1ca05af2326f331c42dc022616_rlt.png\n",
            "✅ Saved cleaned image: /content/drive/MyDrive/dataset/normal/10145_jpg.rf.6e0bd8882187713f946c50ebc7155658_rlt.png\n",
            "✅ Saved cleaned image: /content/drive/MyDrive/dataset/normal/10146_jpg.rf.7450fb90d934141a008dd4ad415e7583_rlt.png\n",
            "✅ Saved cleaned image: /content/drive/MyDrive/dataset/normal/10147_jpg.rf.a14a5c6ac8a1234d59678f03c4ce7a66_rlt.png\n",
            "✅ Saved cleaned image: /content/drive/MyDrive/dataset/normal/10148_jpg.rf.c36a8e3e1b1335697f68f1eafebd98bc_rlt.png\n",
            "✅ Saved cleaned image: /content/drive/MyDrive/dataset/normal/10149_jpg.rf.d8404c117e35b97e9b307611e663e238_rlt.png\n",
            "✅ Saved cleaned image: /content/drive/MyDrive/dataset/normal/10150_jpg.rf.774346c1a2ec5dc287000e0b5a9d6984_rlt.png\n",
            "✅ Saved cleaned image: /content/drive/MyDrive/dataset/normal/10151_jpg.rf.0fd8b939ef97b72e7ff7051e31c60b26_rlt.png\n",
            "✅ Saved cleaned image: /content/drive/MyDrive/dataset/normal/10152_jpg.rf.0e69f0d9d4bef91dc6456d2cc0c23ee1_rlt.png\n",
            "✅ Saved cleaned image: /content/drive/MyDrive/dataset/normal/10153_jpg.rf.ee42e9020fbec7e7f6fe05df32b445ae_rlt.png\n",
            "✅ Saved cleaned image: /content/drive/MyDrive/dataset/normal/10154_jpg.rf.eea3f2fc12587365cd36cb4d1f31db9b_rlt.png\n",
            "✅ Saved cleaned image: /content/drive/MyDrive/dataset/normal/10155_jpg.rf.03227132ac286fcf3285717521f29797_rlt.png\n",
            "✅ Saved cleaned image: /content/drive/MyDrive/dataset/normal/10156_jpg.rf.1dfaf518c7db92e314d7e52abf3b0cba_rlt.png\n",
            "✅ Saved cleaned image: /content/drive/MyDrive/dataset/normal/10157_jpg.rf.d54898d47be0da7d788ef709e7fbf42a_rlt.png\n",
            "✅ Saved cleaned image: /content/drive/MyDrive/dataset/normal/10158_jpg.rf.286281f2d3e7ed36329873d3f5d4e93f_rlt.png\n",
            "✅ Saved cleaned image: /content/drive/MyDrive/dataset/normal/10159_jpg.rf.3727eff1dd54d7b274042f2a3ab106c1_rlt.png\n",
            "✅ Saved cleaned image: /content/drive/MyDrive/dataset/normal/10160_jpg.rf.035cda2898b959b080c89273386b4cce_rlt.png\n",
            "✅ Saved cleaned image: /content/drive/MyDrive/dataset/normal/10161_jpg.rf.2621a1c88526d50cec2c44d1faf69965_rlt.png\n",
            "✅ Saved cleaned image: /content/drive/MyDrive/dataset/normal/10162_jpg.rf.8ef8628660c35a1a177faa540ca27830_rlt.png\n",
            "✅ Saved cleaned image: /content/drive/MyDrive/dataset/normal/10165_jpg.rf.4f223ec07104ea25d93541c256220803_rlt.png\n",
            "✅ Saved cleaned image: /content/drive/MyDrive/dataset/normal/10166_jpg.rf.b79d9de285602b011c3c207364defdd1_rlt.png\n",
            "✅ Saved cleaned image: /content/drive/MyDrive/dataset/normal/10167_jpg.rf.de179b98a636140bd028d454deca1360_rlt.png\n",
            "✅ Saved cleaned image: /content/drive/MyDrive/dataset/normal/10168_jpg.rf.643b6cdc948ca356f5ee205e5e5460ce_rlt.png\n",
            "✅ Saved cleaned image: /content/drive/MyDrive/dataset/normal/10169_jpg.rf.8a84eb6dc416c119ed9e60b2cfaf9218_rlt.png\n",
            "✅ Saved cleaned image: /content/drive/MyDrive/dataset/normal/10170_jpg.rf.a51571e5ba5909f7f27bd2aec43033cf_rlt.png\n",
            "✅ Saved cleaned image: /content/drive/MyDrive/dataset/normal/10171_jpg.rf.59504eea0343096f42c39384b463c989_rlt.png\n",
            "✅ Saved cleaned image: /content/drive/MyDrive/dataset/normal/10172_jpg.rf.777a2bd2dcf61e36da13cc3614168cb4_rlt.png\n",
            "✅ Saved cleaned image: /content/drive/MyDrive/dataset/normal/10173_jpg.rf.591ef4f3be1fd5dd3ace56e065d1a8f2_rlt.png\n",
            "✅ Saved cleaned image: /content/drive/MyDrive/dataset/normal/10174_jpg.rf.3cff0f6ae3d45e4c391155540148c297_rlt.png\n",
            "✅ Saved cleaned image: /content/drive/MyDrive/dataset/normal/10175_jpg.rf.78883f766a5f03aa5efc394129aa557c_rlt.png\n",
            "✅ Saved cleaned image: /content/drive/MyDrive/dataset/normal/10176_jpg.rf.8a182161b78eea47637ad84399dabd14_rlt.png\n",
            "✅ Saved cleaned image: /content/drive/MyDrive/dataset/normal/10177_jpg.rf.c83b6e2c4f40588f16138415ee3f2855_rlt.png\n",
            "✅ Saved cleaned image: /content/drive/MyDrive/dataset/normal/10178_jpg.rf.6cc2b782f2eadac879258beddb0bd12f_rlt.png\n",
            "✅ Saved cleaned image: /content/drive/MyDrive/dataset/normal/10179_jpg.rf.8dd671edba3f8a829a0219aed74cc995_rlt.png\n",
            "✅ Saved cleaned image: /content/drive/MyDrive/dataset/normal/10180_jpg.rf.e4ae440315a385c4e8d843b4b664c690_rlt.png\n",
            "✅ Saved cleaned image: /content/drive/MyDrive/dataset/normal/10181_jpg.rf.e23026cade73ba60161cead242d0beaf_rlt.png\n",
            "✅ Saved cleaned image: /content/drive/MyDrive/dataset/normal/10182_jpg.rf.7a8347320600c5e86336480d992f0641_rlt.png\n",
            "✅ Saved cleaned image: /content/drive/MyDrive/dataset/normal/10183_jpg.rf.7c3adc9512227da741274967fc542b68_rlt.png\n",
            "✅ Saved cleaned image: /content/drive/MyDrive/dataset/normal/10184_jpg.rf.5e0b9a9f63e0db2472e7dabd7354d855_rlt.png\n",
            "✅ Saved cleaned image: /content/drive/MyDrive/dataset/normal/10185_jpg.rf.2bc2db9211262c72e83146db0eb5e7ab_rlt.png\n",
            "✅ Saved cleaned image: /content/drive/MyDrive/dataset/normal/10186_jpg.rf.2453e9803eea0ed73923680fda11e7fa_rlt.png\n",
            "✅ Saved cleaned image: /content/drive/MyDrive/dataset/normal/10187_jpg.rf.f6ab0d04299fd13994b225a4f5ffec12_rlt.png\n",
            "✅ Saved cleaned image: /content/drive/MyDrive/dataset/normal/10188_jpg.rf.9dc719e50d3e3a4acca299b74714b0c3_rlt.png\n",
            "✅ Saved cleaned image: /content/drive/MyDrive/dataset/normal/10189_jpg.rf.ca93616844cfa51424b4205f8620d4f1_rlt.png\n",
            "✅ Saved cleaned image: /content/drive/MyDrive/dataset/normal/10190_jpg.rf.6020c7937c2af91a038df8d6109b31fc_rlt.png\n",
            "✅ Saved cleaned image: /content/drive/MyDrive/dataset/normal/10191_jpg.rf.fdc766c0a9594b35ca3e97e7263994ef_rlt.png\n",
            "✅ Saved cleaned image: /content/drive/MyDrive/dataset/normal/10192_jpg.rf.6d36fb5ef329c116fab647031f4add3e_rlt.png\n",
            "✅ Saved cleaned image: /content/drive/MyDrive/dataset/normal/10193_jpg.rf.2066861a6e82e57ab79319a59a6fb9e7_rlt.png\n",
            "✅ Saved cleaned image: /content/drive/MyDrive/dataset/normal/10194_jpg.rf.caedebfc03bdfdeccb36abe6be00aa54_rlt.png\n",
            "✅ Saved cleaned image: /content/drive/MyDrive/dataset/normal/10195_jpg.rf.41cc9452a3b0e9ba2d720ebcebc723e8_rlt.png\n",
            "✅ Saved cleaned image: /content/drive/MyDrive/dataset/normal/10196_jpg.rf.8429381bafc9f35b79cf286795094be1_rlt.png\n",
            "✅ Saved cleaned image: /content/drive/MyDrive/dataset/normal/10197_jpg.rf.78a48f27aa0fbec823d7036b084ae03b_rlt.png\n",
            "✅ Saved cleaned image: /content/drive/MyDrive/dataset/normal/10198_jpg.rf.12b0ee0089295735e318f091fee17830_rlt.png\n",
            "✅ Saved cleaned image: /content/drive/MyDrive/dataset/normal/10199_jpg.rf.02e717edf5e3892eb6a1a5ab9d1276c6_rlt.png\n",
            "✅ Saved cleaned image: /content/drive/MyDrive/dataset/normal/10200_jpg.rf.0be03d829edd8a95e6c301727cb5bc1d_rlt.png\n",
            "✅ Saved cleaned image: /content/drive/MyDrive/dataset/normal/12_IM-0464-17664_anon_png.rf.a176861a0d1a3114d9faf38ed821c0cb_rlt.png\n",
            "✅ Saved cleaned image: /content/drive/MyDrive/dataset/normal/14_IM-0699-0002_anon_png.rf.54d3b42b7bc44f8d8d2ddba3d89105dc_rlt.png\n",
            "✅ Saved cleaned image: /content/drive/MyDrive/dataset/normal/13_IM-0293-0055_anon_png.rf.c35366ce065fdd83f06806d0df7f7966_rlt.png\n",
            "✅ Saved cleaned image: /content/drive/MyDrive/dataset/normal/14_IM-0699-0002_anon_png.rf.54eb499aa906d4e0eae55b67974b76b2_rlt.png\n",
            "✅ Saved cleaned image: /content/drive/MyDrive/dataset/normal/27_IM-0203-0020_anon_png.rf.214f474b6c5a2750c4dc362af058b58b_rlt.png\n",
            "✅ Saved cleaned image: /content/drive/MyDrive/dataset/normal/22_IM-0038-0004_anon_png.rf.49641a4844640cb67e8f9028b9a19efe_rlt.png\n",
            "✅ Saved cleaned image: /content/drive/MyDrive/dataset/normal/23_IM-0175-0047_anon_png.rf.4b469213e3238f0914395f4dc6c9867e_rlt.png\n",
            "✅ Saved cleaned image: /content/drive/MyDrive/dataset/normal/19_IM-0239-0041_anon_png.rf.b2fecbd55df253b073259af8c588865f_rlt.png\n",
            "✅ Saved cleaned image: /content/drive/MyDrive/dataset/normal/19_IM-0239-0041_anon_png.rf.f8b467dce4a5aebf1bd59a4d1d285d34_rlt.png\n"
          ]
        }
      ]
    },
    {
      "cell_type": "code",
      "source": [
        "# Change this path to where your dataset is in Google Drive\n",
        "image_folder = \"/content/drive/MyDrive/output/tumors\"   # input images\n",
        "output_folder = \"/content/drive/MyDrive/dataset/tumors\"  # output cleaned images\n",
        "\n",
        "# Create output folder if not exists\n",
        "os.makedirs(output_folder, exist_ok=True)"
      ],
      "metadata": {
        "id": "bOxgrRmioPoX"
      },
      "execution_count": 18,
      "outputs": []
    },
    {
      "cell_type": "code",
      "source": [
        "for filename in os.listdir(image_folder):\n",
        "    if filename.lower().endswith((\".png\", \".jpg\", \".jpeg\")):  # support multiple formats\n",
        "        img_path = os.path.join(image_folder, filename)\n",
        "\n",
        "        # Load grayscale\n",
        "        img = cv2.imread(img_path, 0)\n",
        "\n",
        "        if img is None:\n",
        "            print(f\"⚠️ Skipping {filename}, could not load.\")\n",
        "            continue\n",
        "\n",
        "        # 1) Median filter to reduce speckle noise\n",
        "        denoised = cv2.medianBlur(img, 5)\n",
        "\n",
        "        # 2) CLAHE for contrast enhancement\n",
        "        clahe = cv2.createCLAHE(clipLimit=2.0, tileGridSize=(8,8))\n",
        "        enhanced = clahe.apply(denoised)\n",
        "\n",
        "        # Save cleaned image\n",
        "        save_path = os.path.join(output_folder, filename)\n",
        "        cv2.imwrite(save_path, enhanced)\n",
        "        print(f\"✅ Saved cleaned image: {save_path}\")"
      ],
      "metadata": {
        "colab": {
          "base_uri": "https://localhost:8080/"
        },
        "id": "h1IKBjmMojTA",
        "outputId": "99f04d46-970b-42d1-c7a0-e4d608ef49a3"
      },
      "execution_count": 19,
      "outputs": [
        {
          "output_type": "stream",
          "name": "stdout",
          "text": [
            "✅ Saved cleaned image: /content/drive/MyDrive/dataset/tumors/tumors (11).png\n",
            "✅ Saved cleaned image: /content/drive/MyDrive/dataset/tumors/tumors (12).png\n",
            "✅ Saved cleaned image: /content/drive/MyDrive/dataset/tumors/tumors (10).png\n",
            "✅ Saved cleaned image: /content/drive/MyDrive/dataset/tumors/tumors (1).png\n",
            "✅ Saved cleaned image: /content/drive/MyDrive/dataset/tumors/tumors (2).png\n",
            "✅ Saved cleaned image: /content/drive/MyDrive/dataset/tumors/tumors (19).png\n",
            "✅ Saved cleaned image: /content/drive/MyDrive/dataset/tumors/tumors (18).png\n",
            "✅ Saved cleaned image: /content/drive/MyDrive/dataset/tumors/tumors (17).png\n",
            "✅ Saved cleaned image: /content/drive/MyDrive/dataset/tumors/tumors (16).png\n",
            "✅ Saved cleaned image: /content/drive/MyDrive/dataset/tumors/tumors (15).png\n",
            "✅ Saved cleaned image: /content/drive/MyDrive/dataset/tumors/tumors (14).png\n",
            "✅ Saved cleaned image: /content/drive/MyDrive/dataset/tumors/tumors (13).png\n",
            "✅ Saved cleaned image: /content/drive/MyDrive/dataset/tumors/tumors (27).png\n",
            "✅ Saved cleaned image: /content/drive/MyDrive/dataset/tumors/tumors (26).png\n",
            "✅ Saved cleaned image: /content/drive/MyDrive/dataset/tumors/tumors (25).png\n",
            "✅ Saved cleaned image: /content/drive/MyDrive/dataset/tumors/tumors (24).png\n",
            "✅ Saved cleaned image: /content/drive/MyDrive/dataset/tumors/tumors (23).png\n",
            "✅ Saved cleaned image: /content/drive/MyDrive/dataset/tumors/tumors (22).png\n",
            "✅ Saved cleaned image: /content/drive/MyDrive/dataset/tumors/tumors (21).png\n",
            "✅ Saved cleaned image: /content/drive/MyDrive/dataset/tumors/tumors (20).png\n",
            "✅ Saved cleaned image: /content/drive/MyDrive/dataset/tumors/tumors (35).png\n",
            "✅ Saved cleaned image: /content/drive/MyDrive/dataset/tumors/tumors (34).png\n",
            "✅ Saved cleaned image: /content/drive/MyDrive/dataset/tumors/tumors (33).png\n",
            "✅ Saved cleaned image: /content/drive/MyDrive/dataset/tumors/tumors (32).png\n",
            "✅ Saved cleaned image: /content/drive/MyDrive/dataset/tumors/tumors (31).png\n",
            "✅ Saved cleaned image: /content/drive/MyDrive/dataset/tumors/tumors (30).png\n",
            "✅ Saved cleaned image: /content/drive/MyDrive/dataset/tumors/tumors (29).png\n",
            "✅ Saved cleaned image: /content/drive/MyDrive/dataset/tumors/tumors (3).png\n",
            "✅ Saved cleaned image: /content/drive/MyDrive/dataset/tumors/tumors (28).png\n",
            "✅ Saved cleaned image: /content/drive/MyDrive/dataset/tumors/tumors (43).png\n",
            "✅ Saved cleaned image: /content/drive/MyDrive/dataset/tumors/tumors (42).png\n",
            "✅ Saved cleaned image: /content/drive/MyDrive/dataset/tumors/tumors (41).png\n",
            "✅ Saved cleaned image: /content/drive/MyDrive/dataset/tumors/tumors (40).png\n",
            "✅ Saved cleaned image: /content/drive/MyDrive/dataset/tumors/tumors (4).png\n",
            "✅ Saved cleaned image: /content/drive/MyDrive/dataset/tumors/tumors (39).png\n",
            "✅ Saved cleaned image: /content/drive/MyDrive/dataset/tumors/tumors (38).png\n",
            "✅ Saved cleaned image: /content/drive/MyDrive/dataset/tumors/tumors (37).png\n",
            "✅ Saved cleaned image: /content/drive/MyDrive/dataset/tumors/tumors (36).png\n",
            "✅ Saved cleaned image: /content/drive/MyDrive/dataset/tumors/tumors (51).png\n",
            "✅ Saved cleaned image: /content/drive/MyDrive/dataset/tumors/tumors (50).png\n",
            "✅ Saved cleaned image: /content/drive/MyDrive/dataset/tumors/tumors (5).png\n",
            "✅ Saved cleaned image: /content/drive/MyDrive/dataset/tumors/tumors (49).png\n",
            "✅ Saved cleaned image: /content/drive/MyDrive/dataset/tumors/tumors (48).png\n",
            "✅ Saved cleaned image: /content/drive/MyDrive/dataset/tumors/tumors (47).png\n",
            "✅ Saved cleaned image: /content/drive/MyDrive/dataset/tumors/tumors (46).png\n",
            "✅ Saved cleaned image: /content/drive/MyDrive/dataset/tumors/tumors (45).png\n",
            "✅ Saved cleaned image: /content/drive/MyDrive/dataset/tumors/tumors (44).png\n",
            "✅ Saved cleaned image: /content/drive/MyDrive/dataset/tumors/tumors (6).png\n",
            "✅ Saved cleaned image: /content/drive/MyDrive/dataset/tumors/tumors (60).png\n",
            "✅ Saved cleaned image: /content/drive/MyDrive/dataset/tumors/tumors (59).png\n",
            "✅ Saved cleaned image: /content/drive/MyDrive/dataset/tumors/tumors (58).png\n",
            "✅ Saved cleaned image: /content/drive/MyDrive/dataset/tumors/tumors (57).png\n",
            "✅ Saved cleaned image: /content/drive/MyDrive/dataset/tumors/tumors (56).png\n",
            "✅ Saved cleaned image: /content/drive/MyDrive/dataset/tumors/tumors (55).png\n",
            "✅ Saved cleaned image: /content/drive/MyDrive/dataset/tumors/tumors (54).png\n",
            "✅ Saved cleaned image: /content/drive/MyDrive/dataset/tumors/tumors (53).png\n",
            "✅ Saved cleaned image: /content/drive/MyDrive/dataset/tumors/tumors (52).png\n",
            "✅ Saved cleaned image: /content/drive/MyDrive/dataset/tumors/tumors (8).png\n",
            "✅ Saved cleaned image: /content/drive/MyDrive/dataset/tumors/tumors (9).png\n",
            "✅ Saved cleaned image: /content/drive/MyDrive/dataset/tumors/tumors (7).png\n",
            "✅ Saved cleaned image: /content/drive/MyDrive/dataset/tumors/tumors (61).png\n"
          ]
        }
      ]
    },
    {
      "cell_type": "code",
      "source": [
        "# Change this path to where your dataset is in Google Drive\n",
        "image_folder = \"/content/drive/MyDrive/Colab Notebooks/output/tumors\"   # input images\n",
        "output_folder = \"/content/drive/MyDrive/dataset/tumors\"  # output cleaned images\n",
        "\n",
        "# Create output folder if not exists\n",
        "os.makedirs(output_folder, exist_ok=True)"
      ],
      "metadata": {
        "id": "boNvFSNtojzX"
      },
      "execution_count": 14,
      "outputs": []
    },
    {
      "cell_type": "code",
      "source": [
        "for filename in os.listdir(image_folder):\n",
        "    if filename.lower().endswith((\".png\", \".jpg\", \".jpeg\")):  # support multiple formats\n",
        "        img_path = os.path.join(image_folder, filename)\n",
        "\n",
        "        # Load grayscale\n",
        "        img = cv2.imread(img_path, 0)\n",
        "\n",
        "        if img is None:\n",
        "            print(f\"⚠️ Skipping {filename}, could not load.\")\n",
        "            continue\n",
        "\n",
        "        # 1) Median filter to reduce speckle noise\n",
        "        denoised = cv2.medianBlur(img, 5)\n",
        "\n",
        "        # 2) CLAHE for contrast enhancement\n",
        "        clahe = cv2.createCLAHE(clipLimit=2.0, tileGridSize=(8,8))\n",
        "        enhanced = clahe.apply(denoised)\n",
        "\n",
        "        # Save cleaned image\n",
        "        save_path = os.path.join(output_folder, filename)\n",
        "        cv2.imwrite(save_path, enhanced)\n",
        "        print(f\"✅ Saved cleaned image: {save_path}\")"
      ],
      "metadata": {
        "id": "k5QbTQKdo4Nf"
      },
      "execution_count": 15,
      "outputs": []
    },
    {
      "cell_type": "code",
      "source": [],
      "metadata": {
        "id": "R8WT_5vOo88x"
      },
      "execution_count": null,
      "outputs": []
    }
  ]
}